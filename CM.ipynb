{
 "cells": [
  {
   "cell_type": "code",
   "execution_count": null,
   "id": "e2a96b80-5219-47d3-9b7b-c6ec46e4aee0",
   "metadata": {},
   "outputs": [],
   "source": [
    "import pandas as pd\n",
    "import numpy as np\n",
    "import matplotlib.pyplot as plt\n",
    "import seaborn as sns"
   ]
  },
  {
   "cell_type": "code",
   "execution_count": null,
   "id": "7cda8248-462e-4918-9123-3265050d1fda",
   "metadata": {},
   "outputs": [],
   "source": [
    "df= pd.read_csv(\"Heart.csv\")"
   ]
  },
  {
   "cell_type": "code",
   "execution_count": null,
   "id": "b7e51e2a-f726-422d-b414-a298752a98a8",
   "metadata": {},
   "outputs": [],
   "source": [
    "df.head()"
   ]
  },
  {
   "cell_type": "code",
   "execution_count": null,
   "id": "d428fe4b-d1e4-4e86-9a1a-851b66d55d4d",
   "metadata": {},
   "outputs": [],
   "source": [
    "df.shape"
   ]
  },
  {
   "cell_type": "code",
   "execution_count": null,
   "id": "a3eb526a-e1cc-48a7-8365-2b6fbc38e5dd",
   "metadata": {},
   "outputs": [],
   "source": [
    "df.isnull()"
   ]
  },
  {
   "cell_type": "code",
   "execution_count": null,
   "id": "bb895423-4e47-4203-8561-abc25cc33439",
   "metadata": {},
   "outputs": [],
   "source": [
    "df.isnull().sum()"
   ]
  },
  {
   "cell_type": "code",
   "execution_count": null,
   "id": "29026da4-6c54-488c-b7ae-4f486323414a",
   "metadata": {},
   "outputs": [],
   "source": [
    "df.dtypes"
   ]
  },
  {
   "cell_type": "code",
   "execution_count": null,
   "id": "f057e888-9068-413b-9605-65970f83750e",
   "metadata": {},
   "outputs": [],
   "source": [
    "df[df==0]"
   ]
  },
  {
   "cell_type": "code",
   "execution_count": null,
   "id": "25cbc536-a3df-4ff0-8526-1a9f72d6ec80",
   "metadata": {},
   "outputs": [],
   "source": [
    "df['Age'].mean()"
   ]
  },
  {
   "cell_type": "code",
   "execution_count": null,
   "id": "7a8a668c-8026-4cb3-8010-d3bbbd46caff",
   "metadata": {},
   "outputs": [],
   "source": [
    "df[[\"Age\",\"Sex\",\"ChestPain\",\"RestBP\",\"Chol\"]]"
   ]
  },
  {
   "cell_type": "code",
   "execution_count": null,
   "id": "a15548f2-cf13-426a-ba65-659ec8e7c201",
   "metadata": {},
   "outputs": [],
   "source": [
    "from sklearn.model_selection import train_test_split"
   ]
  },
  {
   "cell_type": "code",
   "execution_count": null,
   "id": "fd3f1388-9722-4bf3-835c-f071f9a1f27b",
   "metadata": {},
   "outputs": [],
   "source": [
    "train,test=train_test_split(ITTA18,random_state=1,test_size=0.25)"
   ]
  },
  {
   "cell_type": "code",
   "execution_count": null,
   "id": "9d811fef-7f1f-4682-92f0-2d8ea9797252",
   "metadata": {},
   "outputs": [],
   "source": [
    "train.shape"
   ]
  },
  {
   "cell_type": "code",
   "execution_count": null,
   "id": "e402c407-a4f5-4866-bf73-4a6265744273",
   "metadata": {},
   "outputs": [],
   "source": [
    "test.shape"
   ]
  },
  {
   "cell_type": "code",
   "execution_count": null,
   "id": "49744441-4d2b-4ab5-9965-61adcc01b6ac",
   "metadata": {},
   "outputs": [],
   "source": [
    "from sklearn.metrics import ConfusionMatrixDisplay"
   ]
  },
  {
   "cell_type": "code",
   "execution_count": null,
   "id": "821bae2f-5ea1-4390-adff-352e8a45d404",
   "metadata": {},
   "outputs": [],
   "source": [
    "actual=list(np.ones(45))+list(np.zeros(55))"
   ]
  },
  {
   "cell_type": "code",
   "execution_count": null,
   "id": "f6f80ae1-2aae-4c67-9f94-7b5c01dcdcd9",
   "metadata": {},
   "outputs": [],
   "source": [
    "np.array(actual)"
   ]
  },
  {
   "cell_type": "code",
   "execution_count": null,
   "id": "9b80d3c9-ca47-4865-ad08-977db1136b99",
   "metadata": {},
   "outputs": [],
   "source": [
    "predicted=list(np.ones(40))+list(np.zeros(52))+list(np.ones(8))"
   ]
  },
  {
   "cell_type": "code",
   "execution_count": null,
   "id": "9b8a699b-1fdc-4d0a-b6bc-4ed4533b1df8",
   "metadata": {},
   "outputs": [],
   "source": [
    "np.array(predicted)"
   ]
  },
  {
   "cell_type": "code",
   "execution_count": null,
   "id": "c11299cb-7bad-4df8-8612-52838fba084b",
   "metadata": {},
   "outputs": [],
   "source": [
    "ConfusionMatrixDisplay.from_predictions(actual,predicted)"
   ]
  },
  {
   "cell_type": "code",
   "execution_count": null,
   "id": "a68350b7-6c60-43dd-adae-1c40b65fb0f7",
   "metadata": {},
   "outputs": [],
   "source": [
    "from sklearn.metrics import classification_report"
   ]
  },
  {
   "cell_type": "code",
   "execution_count": null,
   "id": "1d4c8fe3-6353-4243-8e2a-fecd32897cab",
   "metadata": {},
   "outputs": [],
   "source": [
    "print(classification_report(actual,predicted))"
   ]
  }
 ],
 "metadata": {
  "kernelspec": {
   "display_name": "Python 3 (ipykernel)",
   "language": "python",
   "name": "python3"
  },
  "language_info": {
   "codemirror_mode": {
    "name": "ipython",
    "version": 3
   },
   "file_extension": ".py",
   "mimetype": "text/x-python",
   "name": "python",
   "nbconvert_exporter": "python",
   "pygments_lexer": "ipython3",
   "version": "3.12.6"
  }
 },
 "nbformat": 4,
 "nbformat_minor": 5
}
