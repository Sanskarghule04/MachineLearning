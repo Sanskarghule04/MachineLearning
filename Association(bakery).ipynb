{
 "cells": [
  {
   "cell_type": "code",
   "execution_count": null,
   "id": "d60cae1e-ee44-44f9-9c26-15c3b5067332",
   "metadata": {},
   "outputs": [],
   "source": [
    "import numpy as np\n",
    "import matplotlib.pyplot as plt\n",
    "import seaborn as sns\n",
    "import pandas as pd"
   ]
  },
  {
   "cell_type": "code",
   "execution_count": null,
   "id": "c2217aff-ac78-4382-8408-91675d567388",
   "metadata": {},
   "outputs": [],
   "source": [
    "bk=pd.read_csv('Bakery.csv',header=None)\n",
    "bk.head()\n"
   ]
  },
  {
   "cell_type": "code",
   "execution_count": null,
   "id": "3166298c-3ee2-48a4-b605-0fb74e6bf9da",
   "metadata": {},
   "outputs": [],
   "source": [
    "bk.values[0,1]"
   ]
  },
  {
   "cell_type": "code",
   "execution_count": null,
   "id": "5c4ca8e9-ab22-4193-ab50-d8b2f8386500",
   "metadata": {},
   "outputs": [],
   "source": [
    "len(bk)"
   ]
  },
  {
   "cell_type": "code",
   "execution_count": null,
   "id": "ca64b54f-45fb-489a-8647-069678683573",
   "metadata": {},
   "outputs": [],
   "source": [
    "product=[]\n",
    "for i in range(0,len(bk)):\n",
    "    product.append([str(bk.values[i,j]) for j in range(0,len(bk.columns))])"
   ]
  },
  {
   "cell_type": "code",
   "execution_count": null,
   "id": "d1aa4cfd-003a-45e3-82e2-afddf4b19acd",
   "metadata": {},
   "outputs": [],
   "source": [
    "product[0]"
   ]
  },
  {
   "cell_type": "code",
   "execution_count": null,
   "id": "6ab57810-ec12-4349-ac93-82215d908cdc",
   "metadata": {},
   "outputs": [],
   "source": [
    "pip install apyori"
   ]
  },
  {
   "cell_type": "code",
   "execution_count": null,
   "id": "1cf9e746-b2c4-4b23-adeb-a28acd23b46a",
   "metadata": {},
   "outputs": [],
   "source": [
    "from apyori import apriori"
   ]
  },
  {
   "cell_type": "code",
   "execution_count": null,
   "id": "536eeb4d-5b3a-4b3d-ae01-e33122b6a42d",
   "metadata": {},
   "outputs": [],
   "source": [
    "rules = apriori(product,min_support=0.0027,min_confidence=0.2,min_lifts=3,min_length=2,max_length=2)"
   ]
  },
  {
   "cell_type": "code",
   "execution_count": null,
   "id": "04f67d78-a246-4353-b045-6c94abe69a67",
   "metadata": {},
   "outputs": [],
   "source": [
    "results=list(rules)\n",
    "results"
   ]
  },
  {
   "cell_type": "code",
   "execution_count": null,
   "id": "454521cb-2419-4a3d-a4e8-1353bdf4d40e",
   "metadata": {},
   "outputs": [],
   "source": [
    "results[0]\n"
   ]
  },
  {
   "cell_type": "code",
   "execution_count": null,
   "id": "ee162765-ce24-4f54-9627-ac3d0f14a5e2",
   "metadata": {},
   "outputs": [],
   "source": [
    "results[0][0]"
   ]
  }
 ],
 "metadata": {
  "kernelspec": {
   "display_name": "Python 3 (ipykernel)",
   "language": "python",
   "name": "python3"
  },
  "language_info": {
   "codemirror_mode": {
    "name": "ipython",
    "version": 3
   },
   "file_extension": ".py",
   "mimetype": "text/x-python",
   "name": "python",
   "nbconvert_exporter": "python",
   "pygments_lexer": "ipython3",
   "version": "3.12.6"
  }
 },
 "nbformat": 4,
 "nbformat_minor": 5
}
