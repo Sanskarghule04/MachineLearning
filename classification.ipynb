{
 "cells": [
  {
   "cell_type": "code",
   "execution_count": null,
   "id": "7fc4eabf-3d8e-4e51-8158-aadd8d69b24c",
   "metadata": {},
   "outputs": [],
   "source": [
    "import pandas as pd\n",
    "import numpy as np\n",
    "import matplotlib.pyplot as plt\n",
    "import seaborn as sns"
   ]
  },
  {
   "cell_type": "code",
   "execution_count": null,
   "id": "a6019ea1-10ba-4921-850b-e1e1ec494722",
   "metadata": {},
   "outputs": [],
   "source": [
    "ITTA14=pd.read_csv(\"admission_data.csv\")"
   ]
  },
  {
   "cell_type": "code",
   "execution_count": null,
   "id": "86f4690b-a85d-494a-a67d-171376674bc7",
   "metadata": {},
   "outputs": [],
   "source": [
    "ITTA14.columns"
   ]
  },
  {
   "cell_type": "code",
   "execution_count": null,
   "id": "e967753b-c943-48bf-b18d-36d200d96636",
   "metadata": {},
   "outputs": [],
   "source": [
    "ITTA14.shape"
   ]
  },
  {
   "cell_type": "code",
   "execution_count": null,
   "id": "81dba353-a266-41db-beec-c00080f100bf",
   "metadata": {},
   "outputs": [],
   "source": [
    "ITTA14.head()"
   ]
  },
  {
   "cell_type": "code",
   "execution_count": null,
   "id": "5fbaf193-59c5-4cfe-8317-b6bbcc8a30e3",
   "metadata": {},
   "outputs": [],
   "source": [
    "from sklearn.preprocessing import Binarizer\n",
    "\n",
    "bi=Binarizer(threshold=0.75)\n",
    "ITTA14['Chance of Admit ']=bi.fit_transform(ITTA14[['Chance of Admit ']])"
   ]
  },
  {
   "cell_type": "code",
   "execution_count": null,
   "id": "d1dfcdd0-e2fd-4bcb-bb89-20526f88cbaf",
   "metadata": {},
   "outputs": [],
   "source": [
    "ITTA14.head()"
   ]
  },
  {
   "cell_type": "code",
   "execution_count": null,
   "id": "6a58067b-de60-4729-bf96-4248ae121eba",
   "metadata": {},
   "outputs": [],
   "source": [
    "x=ITTA14.drop('Chance of Admit ',axis=1)\n",
    "y=ITTA14['Chance of Admit ']"
   ]
  },
  {
   "cell_type": "code",
   "execution_count": null,
   "id": "fdd54fda-154d-4e62-b53b-cd34fd078b64",
   "metadata": {},
   "outputs": [],
   "source": [
    "x"
   ]
  },
  {
   "cell_type": "code",
   "execution_count": null,
   "id": "a6937536-07ad-4f2f-aaae-67d33dccda76",
   "metadata": {},
   "outputs": [],
   "source": [
    "y=y.astype('int')"
   ]
  },
  {
   "cell_type": "code",
   "execution_count": null,
   "id": "0d86b3e9-854e-423d-bf58-73caa492158d",
   "metadata": {},
   "outputs": [],
   "source": [
    "y"
   ]
  },
  {
   "cell_type": "code",
   "execution_count": null,
   "id": "a95c4435-b74f-4ad0-9e99-0951c4b5c993",
   "metadata": {},
   "outputs": [],
   "source": [
    "sns.countplot(x=y)"
   ]
  },
  {
   "cell_type": "code",
   "execution_count": null,
   "id": "6457cdc8-2695-4fd7-b4ba-2710e29876a0",
   "metadata": {},
   "outputs": [],
   "source": [
    "y.value_counts()"
   ]
  },
  {
   "cell_type": "code",
   "execution_count": null,
   "id": "9303058a-b4e0-49c8-a51a-70f8b0ce4792",
   "metadata": {},
   "outputs": [],
   "source": [
    "from sklearn.model_selection import train_test_split\n",
    "x_train,x_test,y_train,y_test=train_test_split(x,y,random_state=0,test_size=0.25)"
   ]
  },
  {
   "cell_type": "code",
   "execution_count": null,
   "id": "9375a419-0be0-44ef-af44-adbf0f6a9b24",
   "metadata": {},
   "outputs": [],
   "source": [
    "x_train.shape"
   ]
  },
  {
   "cell_type": "code",
   "execution_count": null,
   "id": "dcb27820-4d50-4d26-a1d8-ce5d1f4fc624",
   "metadata": {},
   "outputs": [],
   "source": [
    "x_test.shape"
   ]
  },
  {
   "cell_type": "code",
   "execution_count": null,
   "id": "1e617ef7-4b69-4581-be18-e9b7a2b9771e",
   "metadata": {},
   "outputs": [],
   "source": [
    "x_test"
   ]
  },
  {
   "cell_type": "code",
   "execution_count": null,
   "id": "5ab6f68e-6ccd-409f-b1ff-5866c3958521",
   "metadata": {},
   "outputs": [],
   "source": [
    "from sklearn.tree import DecisionTreeClassifier"
   ]
  },
  {
   "cell_type": "code",
   "execution_count": null,
   "id": "3bb82870-4f24-4137-9a7f-e1ddc6549c49",
   "metadata": {},
   "outputs": [],
   "source": [
    "classifier=DecisionTreeClassifier(random_state=0)"
   ]
  },
  {
   "cell_type": "code",
   "execution_count": null,
   "id": "cbc26d49-17dc-4f4c-96e7-67120da7d45e",
   "metadata": {},
   "outputs": [],
   "source": [
    "classifier.fit(x_train,y_train)"
   ]
  },
  {
   "cell_type": "code",
   "execution_count": null,
   "id": "3915c5da-d24b-4357-a672-05f2eef1658b",
   "metadata": {},
   "outputs": [],
   "source": [
    "y_pred=classifier.predict(x_test)"
   ]
  },
  {
   "cell_type": "code",
   "execution_count": null,
   "id": "545fb968-e692-4f6a-8fb2-a2564ffe49c8",
   "metadata": {},
   "outputs": [],
   "source": [
    "result=pd.DataFrame({\n",
    "    'actual':y_test,\n",
    "    'predicted':y_pred\n",
    "})"
   ]
  },
  {
   "cell_type": "code",
   "execution_count": null,
   "id": "66566124-ff66-4674-937e-e17ac1c29e4a",
   "metadata": {},
   "outputs": [],
   "source": [
    "result"
   ]
  },
  {
   "cell_type": "code",
   "execution_count": null,
   "id": "17d32f07-2c30-4c34-a87a-a74f3c1378ae",
   "metadata": {},
   "outputs": [],
   "source": [
    "from sklearn.metrics import ConfusionMatrixDisplay,accuracy_score\n",
    "from sklearn.metrics import classification_report"
   ]
  },
  {
   "cell_type": "code",
   "execution_count": null,
   "id": "f58af5e2-451f-47eb-9e07-809aec4683f5",
   "metadata": {},
   "outputs": [],
   "source": [
    "ConfusionMatrixDisplay.from_predictions(y_test,y_pred)"
   ]
  },
  {
   "cell_type": "code",
   "execution_count": null,
   "id": "2cb7da1e-249b-46eb-bc36-5ac1b315af4f",
   "metadata": {},
   "outputs": [],
   "source": [
    "accuracy_score(y_test,y_pred)"
   ]
  },
  {
   "cell_type": "code",
   "execution_count": null,
   "id": "d2fd246e-d532-4151-977c-075505c1339e",
   "metadata": {},
   "outputs": [],
   "source": [
    "print(classification_report(y_test,y_pred))"
   ]
  },
  {
   "cell_type": "code",
   "execution_count": null,
   "id": "dd29be9c-566c-4261-8a11-7c57b95318c1",
   "metadata": {},
   "outputs": [],
   "source": [
    "from sklearn.tree import plot_tree"
   ]
  },
  {
   "cell_type": "code",
   "execution_count": null,
   "id": "c4d9d1e0-29f1-4304-af19-385988391031",
   "metadata": {},
   "outputs": [],
   "source": [
    "plt.figure(figsize=(12,12))\n",
    "plot_tree(classifier)"
   ]
  },
  {
   "cell_type": "code",
   "execution_count": null,
   "id": "b92c61af-e98b-4b91-995b-859c60a2270f",
   "metadata": {},
   "outputs": [],
   "source": []
  }
 ],
 "metadata": {
  "kernelspec": {
   "display_name": "Python 3 (ipykernel)",
   "language": "python",
   "name": "python3"
  },
  "language_info": {
   "codemirror_mode": {
    "name": "ipython",
    "version": 3
   },
   "file_extension": ".py",
   "mimetype": "text/x-python",
   "name": "python",
   "nbconvert_exporter": "python",
   "pygments_lexer": "ipython3",
   "version": "3.12.6"
  }
 },
 "nbformat": 4,
 "nbformat_minor": 5
}
