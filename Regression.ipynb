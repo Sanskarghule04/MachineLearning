{
 "cells": [
  {
   "cell_type": "code",
   "execution_count": null,
   "id": "ff0f18c5-2f38-4046-bd7a-660c68ec8326",
   "metadata": {},
   "outputs": [],
   "source": [
    "import matplotlib.pyplot as plt\n",
    "import pandas as pd\n",
    "import seaborn as sbn\n",
    "import numpy as np"
   ]
  },
  {
   "cell_type": "code",
   "execution_count": null,
   "id": "236279e0-eeed-4770-800f-6c6d12fd99b7",
   "metadata": {},
   "outputs": [],
   "source": [
    "df = pd.read_csv(\"temperatures.csv\")"
   ]
  },
  {
   "cell_type": "code",
   "execution_count": null,
   "id": "a85bb1ed-b713-4da5-98a2-1dcfad3dd9f7",
   "metadata": {},
   "outputs": [],
   "source": [
    "df.head(n=10)"
   ]
  },
  {
   "cell_type": "code",
   "execution_count": null,
   "id": "06229d38-2aa5-4661-90f2-3e7f8d87d831",
   "metadata": {},
   "outputs": [],
   "source": [
    "df.columns"
   ]
  },
  {
   "cell_type": "code",
   "execution_count": null,
   "id": "6e0c98c5-7b69-49a1-ab83-e730cf1d8398",
   "metadata": {},
   "outputs": [],
   "source": [
    "X=ITTA18[[\"YEAR\"]]\n",
    "Y=ITTA18[[\"JAN\"]]"
   ]
  },
  {
   "cell_type": "code",
   "execution_count": null,
   "id": "f9c79eb7-313a-45d8-8cfe-38432506db42",
   "metadata": {},
   "outputs": [],
   "source": [
    "plt.title(\"Temperature vs Year\")\n",
    "plt.xlabel(\"Year\")\n",
    "plt.ylabel(\"Temperature\")\n",
    "plt.scatter(X_test,Y_test,)\n",
    "plt.figure(figsize=(16,9))\n",
    "plt.show()"
   ]
  },
  {
   "cell_type": "code",
   "execution_count": null,
   "id": "4bccc645-af5f-4f41-bbe4-41c2a92e03a2",
   "metadata": {},
   "outputs": [],
   "source": [
    "top_10_data = df.nlargest(10,\"ANNUAL\")\n",
    "plt.figure(figsize=(14,12))\n",
    "plt.title(\"Top 10 Temperature records\")\n",
    "sbn.barplot(x=top_10_data.Sr,y=top_10_data.Sales)"
   ]
  },
  {
   "cell_type": "code",
   "execution_count": null,
   "id": "df448658-0853-47a5-a38b-f69a0d05a349",
   "metadata": {},
   "outputs": [],
   "source": [
    "from sklearn import linear_model,metrics"
   ]
  },
  {
   "cell_type": "code",
   "execution_count": null,
   "id": "24da0518-dac8-4b5b-9322-e78d35a5807f",
   "metadata": {},
   "outputs": [],
   "source": [
    "df.columns"
   ]
  },
  {
   "cell_type": "code",
   "execution_count": null,
   "id": "a32215c8-f254-45a3-8e91-80f3947a9d7d",
   "metadata": {},
   "outputs": [],
   "source": [
    "from sklearn.model_selection import train_test_split\n",
    "X_train,X_test,Y_train,Y_test = train_test_split(X,Y,test_size=0.2,random_state=1)\n"
   ]
  },
  {
   "cell_type": "code",
   "execution_count": null,
   "id": "cc749bb6-6aca-44cb-8f46-04f305e53d21",
   "metadata": {},
   "outputs": [],
   "source": [
    "len(X_train)"
   ]
  },
  {
   "cell_type": "code",
   "execution_count": null,
   "id": "39d9b9fb-4f70-4a91-b588-9b3d1ca30786",
   "metadata": {},
   "outputs": [],
   "source": [
    "len(X_test)"
   ]
  },
  {
   "cell_type": "code",
   "execution_count": null,
   "id": "8582c875-4877-455d-b1f7-2fca0ebfd443",
   "metadata": {},
   "outputs": [],
   "source": [
    "df.shape"
   ]
  },
  {
   "cell_type": "code",
   "execution_count": null,
   "id": "2f5fd213-d8d8-475a-ac45-56e2319134be",
   "metadata": {},
   "outputs": [],
   "source": [
    "reg = linear_model.LinearRegression()"
   ]
  },
  {
   "cell_type": "code",
   "execution_count": null,
   "id": "1aaf8c52-8215-40e9-a9d9-bf1f9b1b791d",
   "metadata": {},
   "outputs": [],
   "source": [
    "print(X_train)"
   ]
  },
  {
   "cell_type": "code",
   "execution_count": null,
   "id": "3ba09fb4-934a-4c4a-a752-46f30cdc09e4",
   "metadata": {},
   "outputs": [],
   "source": [
    "print(X_test)"
   ]
  },
  {
   "cell_type": "code",
   "execution_count": null,
   "id": "78c7513b-835b-4f54-a5d5-768432596c66",
   "metadata": {},
   "outputs": [],
   "source": [
    "model = reg.fit(X_train,Y_train)"
   ]
  },
  {
   "cell_type": "code",
   "execution_count": null,
   "id": "9dd219fc-9fae-4a11-8e25-a25d30e494dd",
   "metadata": {},
   "outputs": [],
   "source": [
    "r_sq = reg.score(X_train,Y_train)"
   ]
  },
  {
   "cell_type": "code",
   "execution_count": null,
   "id": "a0c87443-4e6f-4f34-a165-08abef64b52f",
   "metadata": {},
   "outputs": [],
   "source": [
    "print(\"determination coefficient :\",r_sq)"
   ]
  },
  {
   "cell_type": "code",
   "execution_count": null,
   "id": "2a70d1cc-2646-4a89-87ff-48d54e4ad60b",
   "metadata": {},
   "outputs": [],
   "source": [
    "print(\"intercept :\",model.intercept_)"
   ]
  },
  {
   "cell_type": "code",
   "execution_count": null,
   "id": "219d2507-3559-4eb2-9749-fe4388babacd",
   "metadata": {},
   "outputs": [],
   "source": [
    "print(\"slope :\",model.coef_)"
   ]
  },
  {
   "cell_type": "code",
   "execution_count": null,
   "id": "ddc419ac-a565-46ed-90e0-e4cab303cbcc",
   "metadata": {},
   "outputs": [],
   "source": [
    "Y_pred = model.predict(X_test)\n",
    "print(\"predicted response :\",Y_pred,sep=\"\\n\")"
   ]
  },
  {
   "cell_type": "code",
   "execution_count": null,
   "id": "eeb17ce5-73ee-4f88-a0c6-2eedf8da9ae3",
   "metadata": {},
   "outputs": [],
   "source": [
    "plt.scatter(X_train,Y_train,color='yellow')\n",
    "plt.plot(X_train,reg.predict(X_train),color='green',linewidth=3)\n",
    "plt.title(\"Temperature vs Year \")\n",
    "plt.xlabel(\"Year\")\n",
    "plt.ylabel(\"Temperature\")\n",
    "plt.show()"
   ]
  },
  {
   "cell_type": "code",
   "execution_count": null,
   "id": "7d1e9ac4-35ec-4791-b553-34ffb4b98f26",
   "metadata": {},
   "outputs": [],
   "source": [
    "plt.scatter(X_test,Y_test,color='black')\n",
    "plt.plot(X_test,reg.predict(X_test),color='blue',linewidth=3)\n",
    "plt.title(\"Temperature vs Year\")\n",
    "plt.xlabel(\"Year\")\n",
    "plt.ylabel(\"Temperature\")\n",
    "plt.show()"
   ]
  },
  {
   "cell_type": "code",
   "execution_count": null,
   "id": "9066b0bf-6a4c-45b7-a8a5-a05e95f92af1",
   "metadata": {},
   "outputs": [],
   "source": [
    "print(\"Mean abolute error is :\",metrics.mean_absolute_error(Y_test,Y_pred))\n",
    "print(\"Mean squared error is :\",metrics.mean_squared_error(Y_test,Y_pred))\n",
    "print(\"Root mean squared error is :\",np.sqrt(metrics.mean_squared_error(Y_test,Y_pred)))"
   ]
  },
  {
   "cell_type": "code",
   "execution_count": null,
   "id": "316f95b6-3dff-48f1-b3b6-9eea5dd524a3",
   "metadata": {},
   "outputs": [],
   "source": []
  }
 ],
 "metadata": {
  "kernelspec": {
   "display_name": "Python 3 (ipykernel)",
   "language": "python",
   "name": "python3"
  },
  "language_info": {
   "codemirror_mode": {
    "name": "ipython",
    "version": 3
   },
   "file_extension": ".py",
   "mimetype": "text/x-python",
   "name": "python",
   "nbconvert_exporter": "python",
   "pygments_lexer": "ipython3",
   "version": "3.12.6"
  }
 },
 "nbformat": 4,
 "nbformat_minor": 5
}
