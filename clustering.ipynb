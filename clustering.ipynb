{
 "cells": [
  {
   "cell_type": "code",
   "execution_count": null,
   "id": "8c98c9cb-5603-44d2-ac3d-f56d91aae5ae",
   "metadata": {},
   "outputs": [],
   "source": [
    "import pandas as pd \n",
    "import numpy as np\n",
    "import matplotlib.pyplot as plt\n",
    "import seaborn as sns"
   ]
  },
  {
   "cell_type": "code",
   "execution_count": null,
   "id": "5bb9880a-cb1a-4094-a734-973c200f6a12",
   "metadata": {},
   "outputs": [],
   "source": [
    "df=pd.read_csv(\"Mall_Customers.csv\")"
   ]
  },
  {
   "cell_type": "code",
   "execution_count": null,
   "id": "997ffab0-52a2-4260-b82d-6e4177a4dc56",
   "metadata": {},
   "outputs": [],
   "source": [
    "x=df.iloc[:,3:]\n",
    "x"
   ]
  },
  {
   "cell_type": "code",
   "execution_count": null,
   "id": "a32097f8-6775-4449-842c-65075bdbd2f4",
   "metadata": {},
   "outputs": [],
   "source": [
    "plt.title(\"Unclustered data\")\n",
    "plt.xlabel(\"Annual Income (k$)\")\n",
    "plt.ylabel(\"Spending Score (1-100)\")\n",
    "plt.scatter(x[\"Annual Income (k$)\"],x[\"Spending Score (1-100)\"])"
   ]
  },
  {
   "cell_type": "code",
   "execution_count": null,
   "id": "979a5bc4-7695-4e53-aae8-b028974a48b5",
   "metadata": {},
   "outputs": [],
   "source": [
    "from sklearn.cluster import KMeans\n",
    "km=KMeans(n_clusters=6)\n",
    "km.fit_predict(x)"
   ]
  },
  {
   "cell_type": "code",
   "execution_count": null,
   "id": "8c3312a4-2d84-4f92-b2a8-8d5a42efd276",
   "metadata": {},
   "outputs": [],
   "source": [
    "x.shape"
   ]
  },
  {
   "cell_type": "code",
   "execution_count": null,
   "id": "5841d2b5-d0af-4a4b-bc1f-4f48438423dc",
   "metadata": {},
   "outputs": [],
   "source": [
    "km.inertia_"
   ]
  },
  {
   "cell_type": "code",
   "execution_count": null,
   "id": "31bacafe-7806-42f3-8e3f-fa031063ddd8",
   "metadata": {},
   "outputs": [],
   "source": [
    "sse=[]\n",
    "for k in range(1,16):\n",
    "    km=KMeans(n_clusters=k)\n",
    "    km.fit_predict(x)\n",
    "    sse.append(km.inertia_)\n",
    "sse"
   ]
  },
  {
   "cell_type": "code",
   "execution_count": null,
   "id": "11f03ddb-5079-49c7-bd72-53d03de6ce4f",
   "metadata": {},
   "outputs": [],
   "source": [
    "plt.title('Elbow Method')\n",
    "plt.xlabel('Value of K')\n",
    "plt.ylabel('SSE')\n",
    "plt.grid()\n",
    "plt.xticks(range(1,16))\n",
    "plt.plot(range(1,16),sse,marker='.',color='blue')"
   ]
  },
  {
   "cell_type": "code",
   "execution_count": null,
   "id": "20aa568d-4d05-4925-be74-7fb30a923697",
   "metadata": {},
   "outputs": [],
   "source": [
    "from sklearn.metrics import silhouette_score\n",
    "silh=[]\n",
    "for k in range(2,16):\n",
    "    km=KMeans (n_clusters=k)\n",
    "    labels=km.fit_predict(x)\n",
    "    score=silhouette_score(x,labels)\n",
    "    silh.append(score)"
   ]
  },
  {
   "cell_type": "code",
   "execution_count": null,
   "id": "2146b345-697f-473c-869c-7c135965e70b",
   "metadata": {},
   "outputs": [],
   "source": [
    "plt.title('Silhoutte Method')\n",
    "plt.xlabel('Value of K')\n",
    "plt.ylabel('Silhoutte Score')\n",
    "plt.grid()\n",
    "plt.xticks(range(2,16))\n",
    "plt.bar(range(2,16),silh,color='blue')"
   ]
  },
  {
   "cell_type": "code",
   "execution_count": null,
   "id": "3605537e-0b21-4389-b073-2d9b01d9f605",
   "metadata": {},
   "outputs": [],
   "source": [
    "km=KMeans(n_clusters=5)\n",
    "labels=km.fit_predict(x)\n",
    "labels"
   ]
  },
  {
   "cell_type": "code",
   "execution_count": null,
   "id": "93d8555e-b2fb-4708-994e-756289e77ca2",
   "metadata": {},
   "outputs": [],
   "source": [
    "km.cluster_centers_\n",
    "cent=km.cluster_centers_\n",
    "plt.subplot(1,2,1)\n",
    "plt.title('Unclustered data')\n",
    "plt.xlabel('Annual Income')\n",
    "plt.ylabel('Spending score')\n",
    "plt.scatter(x['Annual Income (k$)'],x['Spending Score (1-100)'])\n",
    "\n",
    "plt.subplot(1,2,2)\n",
    "plt.title('Clustered date')\n",
    "plt.xlabel('Annual Income')\n",
    "plt.ylabel('Spending score')\n",
    "plt.scatter(x['Annual Income (k$)'],x['Spending Score (1-100)'],c=labels)\n",
    "\n",
    "plt.scatter(cent[:,0],cent[:,1],s=100,color='k')"
   ]
  },
  {
   "cell_type": "code",
   "execution_count": null,
   "id": "56bbbf2c-944f-44a9-bf85-a939926f7f34",
   "metadata": {},
   "outputs": [],
   "source": [
    "import scipy.cluster.hierarchy as sch\n",
    "dendrogram = sch.dendrogram(sch.linkage(x, method = 'ward'))\n",
    "plt.title('Dendrogram')\n",
    "plt.xlabel('Customers')                            \n",
    "plt.ylabel('Euclidean distances')\n",
    "plt.show() "
   ]
  },
  {
   "cell_type": "code",
   "execution_count": null,
   "id": "8b9976a9-640e-48fe-8d5d-f120ac784609",
   "metadata": {},
   "outputs": [],
   "source": [
    "from sklearn.cluster import AgglomerativeClustering\n",
    "agl=AgglomerativeClustering\n",
    "alabel=km.fit_predict(x)\n",
    "alabel"
   ]
  },
  {
   "cell_type": "code",
   "execution_count": null,
   "id": "51397cfa-ad79-47e4-bb95-3650d4b04d0f",
   "metadata": {},
   "outputs": [],
   "source": [
    "plt.title('agglomerative clustering')\n",
    "plt.xlabel('Annual Income')\n",
    "plt.ylabel('spending score')\n",
    "plt.scatter(x['Annual Income (k$)'],x['Spending Score (1-100)'],c=alabel)"
   ]
  }
 ],
 "metadata": {
  "kernelspec": {
   "display_name": "Python 3 (ipykernel)",
   "language": "python",
   "name": "python3"
  },
  "language_info": {
   "codemirror_mode": {
    "name": "ipython",
    "version": 3
   },
   "file_extension": ".py",
   "mimetype": "text/x-python",
   "name": "python",
   "nbconvert_exporter": "python",
   "pygments_lexer": "ipython3",
   "version": "3.12.6"
  }
 },
 "nbformat": 4,
 "nbformat_minor": 5
}
